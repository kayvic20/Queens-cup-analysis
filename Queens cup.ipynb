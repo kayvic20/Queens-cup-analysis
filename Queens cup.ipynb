{
 "cells": [
  {
   "cell_type": "markdown",
   "metadata": {},
   "source": [
    "# Analysing and predicting the type of service in An ATP tennis Match"
   ]
  },
  {
   "cell_type": "code",
   "execution_count": null,
   "metadata": {},
   "outputs": [],
   "source": [
    "import pandas as pd\n",
    "import numpy as np\n"
   ]
  },
  {
   "cell_type": "code",
   "execution_count": null,
   "metadata": {},
   "outputs": [],
   "source": []
  },
  {
   "cell_type": "code",
   "execution_count": 21,
   "metadata": {
    "scrolled": true
   },
   "outputs": [
    {
     "data": {
      "text/html": [
       "<div>\n",
       "<style scoped>\n",
       "    .dataframe tbody tr th:only-of-type {\n",
       "        vertical-align: middle;\n",
       "    }\n",
       "\n",
       "    .dataframe tbody tr th {\n",
       "        vertical-align: top;\n",
       "    }\n",
       "\n",
       "    .dataframe thead th {\n",
       "        text-align: right;\n",
       "    }\n",
       "</style>\n",
       "<table border=\"1\" class=\"dataframe\">\n",
       "  <thead>\n",
       "    <tr style=\"text-align: right;\">\n",
       "      <th></th>\n",
       "      <th>Unnamed: 0</th>\n",
       "      <th>rallyid</th>\n",
       "      <th>frameid</th>\n",
       "      <th>strokeid</th>\n",
       "      <th>hitter</th>\n",
       "      <th>isserve</th>\n",
       "      <th>type</th>\n",
       "      <th>stroke</th>\n",
       "      <th>x_cabal</th>\n",
       "      <th>y_cabal</th>\n",
       "      <th>x_farah</th>\n",
       "      <th>y_farah</th>\n",
       "      <th>x_lopez</th>\n",
       "      <th>y_lopez</th>\n",
       "      <th>x_murray</th>\n",
       "      <th>y_murray</th>\n",
       "      <th>time</th>\n",
       "    </tr>\n",
       "  </thead>\n",
       "  <tbody>\n",
       "    <tr>\n",
       "      <th>0</th>\n",
       "      <td>0</td>\n",
       "      <td>1</td>\n",
       "      <td>22266</td>\n",
       "      <td>1</td>\n",
       "      <td>Farah</td>\n",
       "      <td>True</td>\n",
       "      <td>points</td>\n",
       "      <td>forehand</td>\n",
       "      <td>7.18</td>\n",
       "      <td>19.16</td>\n",
       "      <td>3.76</td>\n",
       "      <td>27.19</td>\n",
       "      <td>9.29</td>\n",
       "      <td>1.56</td>\n",
       "      <td>3.62</td>\n",
       "      <td>3.86</td>\n",
       "      <td>0.00</td>\n",
       "    </tr>\n",
       "    <tr>\n",
       "      <th>1</th>\n",
       "      <td>1</td>\n",
       "      <td>1</td>\n",
       "      <td>22299</td>\n",
       "      <td>2</td>\n",
       "      <td>Lopez</td>\n",
       "      <td>False</td>\n",
       "      <td>topspin</td>\n",
       "      <td>backhand</td>\n",
       "      <td>7.37</td>\n",
       "      <td>18.57</td>\n",
       "      <td>4.01</td>\n",
       "      <td>25.34</td>\n",
       "      <td>9.58</td>\n",
       "      <td>2.33</td>\n",
       "      <td>3.65</td>\n",
       "      <td>3.86</td>\n",
       "      <td>1.32</td>\n",
       "    </tr>\n",
       "    <tr>\n",
       "      <th>2</th>\n",
       "      <td>2</td>\n",
       "      <td>1</td>\n",
       "      <td>22330</td>\n",
       "      <td>3</td>\n",
       "      <td>Cabal</td>\n",
       "      <td>False</td>\n",
       "      <td>volley</td>\n",
       "      <td>backhand</td>\n",
       "      <td>7.93</td>\n",
       "      <td>16.81</td>\n",
       "      <td>4.30</td>\n",
       "      <td>22.90</td>\n",
       "      <td>9.70</td>\n",
       "      <td>3.54</td>\n",
       "      <td>3.50</td>\n",
       "      <td>3.76</td>\n",
       "      <td>2.56</td>\n",
       "    </tr>\n",
       "    <tr>\n",
       "      <th>3</th>\n",
       "      <td>3</td>\n",
       "      <td>1</td>\n",
       "      <td>22396</td>\n",
       "      <td>4</td>\n",
       "      <td>Lopez</td>\n",
       "      <td>False</td>\n",
       "      <td>topspin</td>\n",
       "      <td>forehand</td>\n",
       "      <td>7.42</td>\n",
       "      <td>18.08</td>\n",
       "      <td>4.28</td>\n",
       "      <td>19.80</td>\n",
       "      <td>6.45</td>\n",
       "      <td>7.35</td>\n",
       "      <td>2.68</td>\n",
       "      <td>6.20</td>\n",
       "      <td>5.20</td>\n",
       "    </tr>\n",
       "    <tr>\n",
       "      <th>4</th>\n",
       "      <td>4</td>\n",
       "      <td>1</td>\n",
       "      <td>22433</td>\n",
       "      <td>5</td>\n",
       "      <td>Farah</td>\n",
       "      <td>False</td>\n",
       "      <td>volley</td>\n",
       "      <td>forehand</td>\n",
       "      <td>6.63</td>\n",
       "      <td>18.83</td>\n",
       "      <td>3.16</td>\n",
       "      <td>17.96</td>\n",
       "      <td>6.25</td>\n",
       "      <td>8.82</td>\n",
       "      <td>2.96</td>\n",
       "      <td>8.36</td>\n",
       "      <td>6.68</td>\n",
       "    </tr>\n",
       "  </tbody>\n",
       "</table>\n",
       "</div>"
      ],
      "text/plain": [
       "   Unnamed: 0  rallyid  frameid  strokeid hitter  isserve     type    stroke  \\\n",
       "0           0        1    22266         1  Farah     True   points  forehand   \n",
       "1           1        1    22299         2  Lopez    False  topspin  backhand   \n",
       "2           2        1    22330         3  Cabal    False   volley  backhand   \n",
       "3           3        1    22396         4  Lopez    False  topspin  forehand   \n",
       "4           4        1    22433         5  Farah    False   volley  forehand   \n",
       "\n",
       "   x_cabal  y_cabal  x_farah  y_farah  x_lopez  y_lopez  x_murray  y_murray  \\\n",
       "0     7.18    19.16     3.76    27.19     9.29     1.56      3.62      3.86   \n",
       "1     7.37    18.57     4.01    25.34     9.58     2.33      3.65      3.86   \n",
       "2     7.93    16.81     4.30    22.90     9.70     3.54      3.50      3.76   \n",
       "3     7.42    18.08     4.28    19.80     6.45     7.35      2.68      6.20   \n",
       "4     6.63    18.83     3.16    17.96     6.25     8.82      2.96      8.36   \n",
       "\n",
       "   time  \n",
       "0  0.00  \n",
       "1  1.32  \n",
       "2  2.56  \n",
       "3  5.20  \n",
       "4  6.68  "
      ]
     },
     "execution_count": 21,
     "metadata": {},
     "output_type": "execute_result"
    }
   ],
   "source": [
    "data_set = pd.read_csv(\"events.csv\")\n",
    "data_set.head()"
   ]
  },
  {
   "cell_type": "code",
   "execution_count": 22,
   "metadata": {},
   "outputs": [
    {
     "data": {
      "text/html": [
       "<div>\n",
       "<style scoped>\n",
       "    .dataframe tbody tr th:only-of-type {\n",
       "        vertical-align: middle;\n",
       "    }\n",
       "\n",
       "    .dataframe tbody tr th {\n",
       "        vertical-align: top;\n",
       "    }\n",
       "\n",
       "    .dataframe thead th {\n",
       "        text-align: right;\n",
       "    }\n",
       "</style>\n",
       "<table border=\"1\" class=\"dataframe\">\n",
       "  <thead>\n",
       "    <tr style=\"text-align: right;\">\n",
       "      <th></th>\n",
       "      <th>Unnamed: 0</th>\n",
       "      <th>rallyid</th>\n",
       "      <th>frameid</th>\n",
       "      <th>strokeid</th>\n",
       "      <th>hitter</th>\n",
       "      <th>isserve</th>\n",
       "      <th>type</th>\n",
       "      <th>stroke</th>\n",
       "      <th>x_cabal</th>\n",
       "      <th>y_cabal</th>\n",
       "      <th>x_farah</th>\n",
       "      <th>y_farah</th>\n",
       "      <th>x_lopez</th>\n",
       "      <th>y_lopez</th>\n",
       "      <th>x_murray</th>\n",
       "      <th>y_murray</th>\n",
       "      <th>time</th>\n",
       "    </tr>\n",
       "  </thead>\n",
       "  <tbody>\n",
       "    <tr>\n",
       "      <th>413</th>\n",
       "      <td>413</td>\n",
       "      <td>159</td>\n",
       "      <td>244032</td>\n",
       "      <td>2</td>\n",
       "      <td>Farah</td>\n",
       "      <td>False</td>\n",
       "      <td>lob</td>\n",
       "      <td>forehand</td>\n",
       "      <td>3.54</td>\n",
       "      <td>17.79</td>\n",
       "      <td>7.79</td>\n",
       "      <td>25.90</td>\n",
       "      <td>4.11</td>\n",
       "      <td>2.00</td>\n",
       "      <td>6.90</td>\n",
       "      <td>9.85</td>\n",
       "      <td>8870.64</td>\n",
       "    </tr>\n",
       "    <tr>\n",
       "      <th>414</th>\n",
       "      <td>414</td>\n",
       "      <td>160</td>\n",
       "      <td>245314</td>\n",
       "      <td>1</td>\n",
       "      <td>Lopez</td>\n",
       "      <td>True</td>\n",
       "      <td>points</td>\n",
       "      <td>forehand</td>\n",
       "      <td>2.04</td>\n",
       "      <td>27.62</td>\n",
       "      <td>6.92</td>\n",
       "      <td>18.45</td>\n",
       "      <td>6.77</td>\n",
       "      <td>0.46</td>\n",
       "      <td>3.63</td>\n",
       "      <td>9.20</td>\n",
       "      <td>8921.92</td>\n",
       "    </tr>\n",
       "    <tr>\n",
       "      <th>415</th>\n",
       "      <td>415</td>\n",
       "      <td>160</td>\n",
       "      <td>245348</td>\n",
       "      <td>2</td>\n",
       "      <td>Cabal</td>\n",
       "      <td>False</td>\n",
       "      <td>topspin</td>\n",
       "      <td>backhand</td>\n",
       "      <td>3.62</td>\n",
       "      <td>26.81</td>\n",
       "      <td>6.97</td>\n",
       "      <td>18.52</td>\n",
       "      <td>7.41</td>\n",
       "      <td>2.58</td>\n",
       "      <td>3.62</td>\n",
       "      <td>11.16</td>\n",
       "      <td>8923.28</td>\n",
       "    </tr>\n",
       "  </tbody>\n",
       "</table>\n",
       "</div>"
      ],
      "text/plain": [
       "     Unnamed: 0  rallyid  frameid  strokeid hitter  isserve     type  \\\n",
       "413         413      159   244032         2  Farah    False      lob   \n",
       "414         414      160   245314         1  Lopez     True   points   \n",
       "415         415      160   245348         2  Cabal    False  topspin   \n",
       "\n",
       "       stroke  x_cabal  y_cabal  x_farah  y_farah  x_lopez  y_lopez  x_murray  \\\n",
       "413  forehand     3.54    17.79     7.79    25.90     4.11     2.00      6.90   \n",
       "414  forehand     2.04    27.62     6.92    18.45     6.77     0.46      3.63   \n",
       "415  backhand     3.62    26.81     6.97    18.52     7.41     2.58      3.62   \n",
       "\n",
       "     y_murray     time  \n",
       "413      9.85  8870.64  \n",
       "414      9.20  8921.92  \n",
       "415     11.16  8923.28  "
      ]
     },
     "execution_count": 22,
     "metadata": {},
     "output_type": "execute_result"
    }
   ],
   "source": [
    "data_set.tail(n=3)"
   ]
  },
  {
   "cell_type": "code",
   "execution_count": 23,
   "metadata": {},
   "outputs": [
    {
     "data": {
      "text/plain": [
       "<bound method DataFrame.info of      Unnamed: 0  rallyid  frameid  strokeid hitter  isserve     type  \\\n",
       "0             0        1    22266         1  Farah     True   points   \n",
       "1             1        1    22299         2  Lopez    False  topspin   \n",
       "2             2        1    22330         3  Cabal    False   volley   \n",
       "3             3        1    22396         4  Lopez    False  topspin   \n",
       "4             4        1    22433         5  Farah    False   volley   \n",
       "..          ...      ...      ...       ...    ...      ...      ...   \n",
       "411         411      158   243158         1  Lopez     True   points   \n",
       "412         412      159   244003         1  Lopez     True   points   \n",
       "413         413      159   244032         2  Farah    False      lob   \n",
       "414         414      160   245314         1  Lopez     True   points   \n",
       "415         415      160   245348         2  Cabal    False  topspin   \n",
       "\n",
       "       stroke  x_cabal  y_cabal  x_farah  y_farah  x_lopez  y_lopez  x_murray  \\\n",
       "0    forehand     7.18    19.16     3.76    27.19     9.29     1.56      3.62   \n",
       "1    backhand     7.37    18.57     4.01    25.34     9.58     2.33      3.65   \n",
       "2    backhand     7.93    16.81     4.30    22.90     9.70     3.54      3.50   \n",
       "3    forehand     7.42    18.08     4.28    19.80     6.45     7.35      2.68   \n",
       "4    forehand     6.63    18.83     3.16    17.96     6.25     8.82      2.96   \n",
       "..        ...      ...      ...      ...      ...      ...      ...       ...   \n",
       "411  forehand     3.54    18.64     9.48    28.11     3.87     0.82      7.33   \n",
       "412  forehand     3.43    18.17     9.00    27.31     3.87     0.43      7.19   \n",
       "413  forehand     3.54    17.79     7.79    25.90     4.11     2.00      6.90   \n",
       "414  forehand     2.04    27.62     6.92    18.45     6.77     0.46      3.63   \n",
       "415  backhand     3.62    26.81     6.97    18.52     7.41     2.58      3.62   \n",
       "\n",
       "     y_murray     time  \n",
       "0        3.86     0.00  \n",
       "1        3.86     1.32  \n",
       "2        3.76     2.56  \n",
       "3        6.20     5.20  \n",
       "4        8.36     6.68  \n",
       "..        ...      ...  \n",
       "411      9.31  8835.68  \n",
       "412      9.03  8869.48  \n",
       "413      9.85  8870.64  \n",
       "414      9.20  8921.92  \n",
       "415     11.16  8923.28  \n",
       "\n",
       "[416 rows x 17 columns]>"
      ]
     },
     "execution_count": 23,
     "metadata": {},
     "output_type": "execute_result"
    }
   ],
   "source": [
    "data_set.info"
   ]
  },
  {
   "cell_type": "code",
   "execution_count": 24,
   "metadata": {},
   "outputs": [
    {
     "data": {
      "text/plain": [
       "Unnamed: 0      int64\n",
       "rallyid         int64\n",
       "frameid         int64\n",
       "strokeid        int64\n",
       "hitter         object\n",
       "isserve          bool\n",
       "type           object\n",
       "stroke         object\n",
       "x_cabal       float64\n",
       "y_cabal       float64\n",
       "x_farah       float64\n",
       "y_farah       float64\n",
       "x_lopez       float64\n",
       "y_lopez       float64\n",
       "x_murray      float64\n",
       "y_murray      float64\n",
       "time          float64\n",
       "dtype: object"
      ]
     },
     "execution_count": 24,
     "metadata": {},
     "output_type": "execute_result"
    }
   ],
   "source": [
    "data_set.dtypes"
   ]
  },
  {
   "cell_type": "code",
   "execution_count": 26,
   "metadata": {},
   "outputs": [
    {
     "data": {
      "image/png": "[encoded data removed]",
      "text/plain": [
       "<Figure size 842.4x595.44 with 1 Axes>"
      ]
     },
     "metadata": {},
     "output_type": "display_data"
    }
   ],
   "source": [
    "import seaborn as sns\n",
    "import matplotlib.pyplot as plt\n",
    "# set the background colour of the plot to white\n",
    "sns.set(style=\"whitegrid\", color_codes=True)\n",
    "# setting the plot size for all plots\n",
    "sns.set(rc={'figure.figsize':(11.7,8.27)})\n",
    "# create a countplot\n",
    "sns.countplot('hitter',data=data_set,hue = 'type')\n",
    "# Remove the top and down margin\n",
    "# sns.despine(offset=10, trim=True)\n",
    "sns.set(rc={'figure.figsize':(16.7,13.27)})"
   ]
  },
  {
   "cell_type": "code",
   "execution_count": 29,
   "metadata": {
    "scrolled": true
   },
   "outputs": [
    {
     "data": {
      "image/png": "[encoded data removed]",
      "text/plain": [
       "<Figure size 1202.4x955.44 with 1 Axes>"
      ]
     },
     "metadata": {},
     "output_type": "display_data"
    }
   ],
   "source": [
    "sns.violinplot(x=\"hitter\",y=\"x_murray\", hue=\"hitter\", data=data_set);\n",
    "plt.show()"
   ]
  },
  {
   "cell_type": "code",
   "execution_count": 37,
   "metadata": {
    "scrolled": true
   },
   "outputs": [
    {
     "name": "stdout",
     "output_type": "stream",
     "text": [
      "hitter' :  ['Farah' 'Lopez' 'Cabal' 'Murray']\n",
      "isserve' :  [ True False]\n",
      "type' :  ['points' 'topspin' 'volley' 'lob' 'return' 'slice' 'smash']\n",
      "stroke' :  ['forehand' 'backhand']\n"
     ]
    }
   ],
   "source": [
    "print(\"hitter' : \",data_set['hitter'].unique())\n",
    "print(\"isserve' : \",data_set['isserve'].unique())\n",
    "print(\"type' : \",data_set['type'].unique())\n",
    "print(\"stroke' : \",data_set['stroke'].unique())"
   ]
  },
  {
   "cell_type": "code",
   "execution_count": 39,
   "metadata": {},
   "outputs": [
    {
     "data": {
      "text/html": [
       "<div>\n",
       "<style scoped>\n",
       "    .dataframe tbody tr th:only-of-type {\n",
       "        vertical-align: middle;\n",
       "    }\n",
       "\n",
       "    .dataframe tbody tr th {\n",
       "        vertical-align: top;\n",
       "    }\n",
       "\n",
       "    .dataframe thead th {\n",
       "        text-align: right;\n",
       "    }\n",
       "</style>\n",
       "<table border=\"1\" class=\"dataframe\">\n",
       "  <thead>\n",
       "    <tr style=\"text-align: right;\">\n",
       "      <th></th>\n",
       "      <th>Unnamed: 0</th>\n",
       "      <th>rallyid</th>\n",
       "      <th>frameid</th>\n",
       "      <th>strokeid</th>\n",
       "      <th>hitter</th>\n",
       "      <th>isserve</th>\n",
       "      <th>type</th>\n",
       "      <th>stroke</th>\n",
       "      <th>x_cabal</th>\n",
       "      <th>y_cabal</th>\n",
       "      <th>x_farah</th>\n",
       "      <th>y_farah</th>\n",
       "      <th>x_lopez</th>\n",
       "      <th>y_lopez</th>\n",
       "      <th>x_murray</th>\n",
       "      <th>y_murray</th>\n",
       "      <th>time</th>\n",
       "    </tr>\n",
       "  </thead>\n",
       "  <tbody>\n",
       "    <tr>\n",
       "      <th>0</th>\n",
       "      <td>0</td>\n",
       "      <td>1</td>\n",
       "      <td>22266</td>\n",
       "      <td>1</td>\n",
       "      <td>1</td>\n",
       "      <td>1</td>\n",
       "      <td>1</td>\n",
       "      <td>1</td>\n",
       "      <td>7.18</td>\n",
       "      <td>19.16</td>\n",
       "      <td>3.76</td>\n",
       "      <td>27.19</td>\n",
       "      <td>9.29</td>\n",
       "      <td>1.56</td>\n",
       "      <td>3.62</td>\n",
       "      <td>3.86</td>\n",
       "      <td>0.00</td>\n",
       "    </tr>\n",
       "    <tr>\n",
       "      <th>1</th>\n",
       "      <td>1</td>\n",
       "      <td>1</td>\n",
       "      <td>22299</td>\n",
       "      <td>2</td>\n",
       "      <td>2</td>\n",
       "      <td>0</td>\n",
       "      <td>5</td>\n",
       "      <td>0</td>\n",
       "      <td>7.37</td>\n",
       "      <td>18.57</td>\n",
       "      <td>4.01</td>\n",
       "      <td>25.34</td>\n",
       "      <td>9.58</td>\n",
       "      <td>2.33</td>\n",
       "      <td>3.65</td>\n",
       "      <td>3.86</td>\n",
       "      <td>1.32</td>\n",
       "    </tr>\n",
       "    <tr>\n",
       "      <th>2</th>\n",
       "      <td>2</td>\n",
       "      <td>1</td>\n",
       "      <td>22330</td>\n",
       "      <td>3</td>\n",
       "      <td>0</td>\n",
       "      <td>0</td>\n",
       "      <td>6</td>\n",
       "      <td>0</td>\n",
       "      <td>7.93</td>\n",
       "      <td>16.81</td>\n",
       "      <td>4.30</td>\n",
       "      <td>22.90</td>\n",
       "      <td>9.70</td>\n",
       "      <td>3.54</td>\n",
       "      <td>3.50</td>\n",
       "      <td>3.76</td>\n",
       "      <td>2.56</td>\n",
       "    </tr>\n",
       "    <tr>\n",
       "      <th>3</th>\n",
       "      <td>3</td>\n",
       "      <td>1</td>\n",
       "      <td>22396</td>\n",
       "      <td>4</td>\n",
       "      <td>2</td>\n",
       "      <td>0</td>\n",
       "      <td>5</td>\n",
       "      <td>1</td>\n",
       "      <td>7.42</td>\n",
       "      <td>18.08</td>\n",
       "      <td>4.28</td>\n",
       "      <td>19.80</td>\n",
       "      <td>6.45</td>\n",
       "      <td>7.35</td>\n",
       "      <td>2.68</td>\n",
       "      <td>6.20</td>\n",
       "      <td>5.20</td>\n",
       "    </tr>\n",
       "    <tr>\n",
       "      <th>4</th>\n",
       "      <td>4</td>\n",
       "      <td>1</td>\n",
       "      <td>22433</td>\n",
       "      <td>5</td>\n",
       "      <td>1</td>\n",
       "      <td>0</td>\n",
       "      <td>6</td>\n",
       "      <td>1</td>\n",
       "      <td>6.63</td>\n",
       "      <td>18.83</td>\n",
       "      <td>3.16</td>\n",
       "      <td>17.96</td>\n",
       "      <td>6.25</td>\n",
       "      <td>8.82</td>\n",
       "      <td>2.96</td>\n",
       "      <td>8.36</td>\n",
       "      <td>6.68</td>\n",
       "    </tr>\n",
       "  </tbody>\n",
       "</table>\n",
       "</div>"
      ],
      "text/plain": [
       "   Unnamed: 0  rallyid  frameid  strokeid  hitter  isserve  type  stroke  \\\n",
       "0           0        1    22266         1       1        1     1       1   \n",
       "1           1        1    22299         2       2        0     5       0   \n",
       "2           2        1    22330         3       0        0     6       0   \n",
       "3           3        1    22396         4       2        0     5       1   \n",
       "4           4        1    22433         5       1        0     6       1   \n",
       "\n",
       "   x_cabal  y_cabal  x_farah  y_farah  x_lopez  y_lopez  x_murray  y_murray  \\\n",
       "0     7.18    19.16     3.76    27.19     9.29     1.56      3.62      3.86   \n",
       "1     7.37    18.57     4.01    25.34     9.58     2.33      3.65      3.86   \n",
       "2     7.93    16.81     4.30    22.90     9.70     3.54      3.50      3.76   \n",
       "3     7.42    18.08     4.28    19.80     6.45     7.35      2.68      6.20   \n",
       "4     6.63    18.83     3.16    17.96     6.25     8.82      2.96      8.36   \n",
       "\n",
       "   time  \n",
       "0  0.00  \n",
       "1  1.32  \n",
       "2  2.56  \n",
       "3  5.20  \n",
       "4  6.68  "
      ]
     },
     "execution_count": 39,
     "metadata": {},
     "output_type": "execute_result"
    }
   ],
   "source": [
    "#import the necessary module\n",
    "from sklearn import preprocessing\n",
    "# create the Labelencoder object\n",
    "le = preprocessing.LabelEncoder()\n",
    "#convert the categorical columns into numeric\n",
    "data_set['hitter'] = le.fit_transform(data_set['hitter'])\n",
    "data_set['isserve'] = le.fit_transform(data_set['isserve'])\n",
    "data_set['type'] = le.fit_transform(data_set['type'])\n",
    "data_set['stroke'] = le.fit_transform(data_set['stroke'])\n",
    "#display the initial records\n",
    "data_set.head()"
   ]
  },
  {
   "cell_type": "code",
   "execution_count": 80,
   "metadata": {
    "scrolled": true
   },
   "outputs": [
    {
     "data": {
      "text/html": [
       "<div>\n",
       "<style scoped>\n",
       "    .dataframe tbody tr th:only-of-type {\n",
       "        vertical-align: middle;\n",
       "    }\n",
       "\n",
       "    .dataframe tbody tr th {\n",
       "        vertical-align: top;\n",
       "    }\n",
       "\n",
       "    .dataframe thead th {\n",
       "        text-align: right;\n",
       "    }\n",
       "</style>\n",
       "<table border=\"1\" class=\"dataframe\">\n",
       "  <thead>\n",
       "    <tr style=\"text-align: right;\">\n",
       "      <th></th>\n",
       "      <th>Unnamed: 0</th>\n",
       "      <th>strokeid</th>\n",
       "      <th>hitter</th>\n",
       "      <th>isserve</th>\n",
       "      <th>stroke</th>\n",
       "      <th>time</th>\n",
       "    </tr>\n",
       "  </thead>\n",
       "  <tbody>\n",
       "    <tr>\n",
       "      <th>0</th>\n",
       "      <td>0</td>\n",
       "      <td>1</td>\n",
       "      <td>1</td>\n",
       "      <td>1</td>\n",
       "      <td>1</td>\n",
       "      <td>0.00</td>\n",
       "    </tr>\n",
       "    <tr>\n",
       "      <th>1</th>\n",
       "      <td>1</td>\n",
       "      <td>2</td>\n",
       "      <td>2</td>\n",
       "      <td>0</td>\n",
       "      <td>0</td>\n",
       "      <td>1.32</td>\n",
       "    </tr>\n",
       "  </tbody>\n",
       "</table>\n",
       "</div>"
      ],
      "text/plain": [
       "   Unnamed: 0  strokeid  hitter  isserve  stroke  time\n",
       "0           0         1       1        1       1  0.00\n",
       "1           1         2       2        0       0  1.32"
      ]
     },
     "execution_count": 80,
     "metadata": {},
     "output_type": "execute_result"
    }
   ],
   "source": [
    "cols = [col for col in data_set.columns if col not in ['type','frameid','rallyid','x_cabal','y_cabal','x_farah','y_farah','x_lopez','y_lopez','x_murray','y_murray']]\n",
    "# dropping the 'frameid','rallyid', x_cabal\ty_cabal\tx_farah\ty_farah\tx_lopez\ty_lopez\tx_murray\ty_murray columns\n",
    "data = data_set[cols]\n",
    "target = data_set['type']\n",
    "data.head(n=2)"
   ]
  },
  {
   "cell_type": "code",
   "execution_count": 81,
   "metadata": {},
   "outputs": [],
   "source": [
    "from sklearn.model_selection import train_test_split\n",
    "data_train, data_test, target_train, target_test = train_test_split(data,target, test_size = 0.30, random_state = 10)"
   ]
  },
  {
   "cell_type": "code",
   "execution_count": 82,
   "metadata": {},
   "outputs": [
    {
     "name": "stdout",
     "output_type": "stream",
     "text": [
      "Naive-Bayes accuracy :  0.672\n"
     ]
    }
   ],
   "source": [
    "from sklearn.naive_bayes import GaussianNB\n",
    "from sklearn.metrics import accuracy_score\n",
    "#create an object of the type GaussianNB\n",
    "gnb = GaussianNB()\n",
    "#train the algorithm on training data and predict using the testing data\n",
    "pred = gnb.fit(data_train, target_train).predict(data_test)\n",
    "#print(pred.tolist())\n",
    "#print the accuracy score of the model\n",
    "print(\"Naive-Bayes accuracy : \",accuracy_score(target_test, pred, normalize = True))"
   ]
  },
  {
   "cell_type": "code",
   "execution_count": 83,
   "metadata": {},
   "outputs": [
    {
     "name": "stdout",
     "output_type": "stream",
     "text": [
      "LinearSVC accuracy :  0.096\n"
     ]
    },
    {
     "name": "stderr",
     "output_type": "stream",
     "text": [
      "c:\\users\\afe\\appdata\\local\\programs\\python\\python38-32\\lib\\site-packages\\sklearn\\svm\\_base.py:976: ConvergenceWarning: Liblinear failed to converge, increase the number of iterations.\n",
      "  warnings.warn(\"Liblinear failed to converge, increase \"\n"
     ]
    }
   ],
   "source": [
    "from sklearn.svm import LinearSVC\n",
    "from sklearn.metrics import accuracy_score\n",
    "#create an object of type LinearSVC\n",
    "svc_model = LinearSVC(random_state=0)\n",
    "#train the algorithm on training data and predict using the testing data\n",
    "pred = svc_model.fit(data_train, target_train).predict(data_test)\n",
    "#print the accuracy score of the model\n",
    "print(\"LinearSVC accuracy : \",accuracy_score(target_test, pred, normalize = True))"
   ]
  },
  {
   "cell_type": "code",
   "execution_count": 84,
   "metadata": {},
   "outputs": [
    {
     "name": "stdout",
     "output_type": "stream",
     "text": [
      "KNeighbors accuracy score :  0.272\n"
     ]
    }
   ],
   "source": [
    "from sklearn.neighbors import KNeighborsClassifier\n",
    "from sklearn.metrics import accuracy_score\n",
    "#create object of the lassifier\n",
    "neigh = KNeighborsClassifier(n_neighbors=3)\n",
    "#Train the algorithm\n",
    "neigh.fit(data_train, target_train)\n",
    "# predict the response\n",
    "pred = neigh.predict(data_test)\n",
    "# evaluate accuracy\n",
    "print (\"KNeighbors accuracy score : \",accuracy_score(target_test, pred))"
   ]
  }
 ],
 "metadata": {
  "kernelspec": {
   "display_name": "Python 3",
   "language": "python",
   "name": "python3"
  },
  "language_info": {
   "codemirror_mode": {
    "name": "ipython",
    "version": 3
   },
   "file_extension": ".py",
   "mimetype": "text/x-python",
   "name": "python",
   "nbconvert_exporter": "python",
   "pygments_lexer": "ipython3",
   "version": "3.8.3"
  }
 },
 "nbformat": 4,
 "nbformat_minor": 4
}
